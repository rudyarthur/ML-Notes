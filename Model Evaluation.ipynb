{
 "cells": [
  {
   "cell_type": "markdown",
   "id": "907ee879",
   "metadata": {},
   "source": [
    "Let's use the classic Iris data to do some machine learning."
   ]
  },
  {
   "cell_type": "code",
   "execution_count": 26,
   "id": "92b1aef5",
   "metadata": {},
   "outputs": [
    {
     "data": {
      "image/png": "[encoded data removed]",
      "text/plain": [
       "<Figure size 432x288 with 1 Axes>"
      ]
     },
     "metadata": {
      "needs_background": "light"
     },
     "output_type": "display_data"
    }
   ],
   "source": [
    "from sklearn import datasets\n",
    "import pandas as pd\n",
    "import matplotlib.pyplot as plt\n",
    "\n",
    "iris = datasets.load_iris() \n",
    "df = pd.DataFrame(iris.data, columns=iris.feature_names) #God forbid we just use an array\n",
    "plt.scatter(df[\"sepal length (cm)\"], df[\"sepal width (cm)\"], label=\"sepal\")\n",
    "plt.scatter(df[\"petal length (cm)\"], df[\"petal width (cm)\"], label=\"petal\")\n",
    "plt.xlabel(\"length\")\n",
    "plt.ylabel(\"width\")\n",
    "plt.legend();"
   ]
  },
  {
   "cell_type": "code",
   "execution_count": 58,
   "id": "143b9b57",
   "metadata": {},
   "outputs": [],
   "source": [
    "from sklearn.svm import SVC ##support vector classifier\n",
    "from sklearn.neighbors import KNeighborsClassifier\n",
    "from sklearn.tree import DecisionTreeClassifier\n",
    "from sklearn.naive_bayes import GaussianNB\n",
    "from sklearn.model_selection import train_test_split\n",
    "\n",
    "X_iris = iris.data\n",
    "y_iris = iris.target\n",
    "\n",
    "X_train, X_test, y_train, y_test = train_test_split(X_iris, y_iris, test_size=0.8, random_state=42)\n",
    "\n",
    "classifiers = {\n",
    "    \"SVD\":SVC(),\n",
    "    \"SVCrbf\":SVC(kernel=\"rbf\"),\n",
    "    \"KNN\":KNeighborsClassifier(n_neighbors=3),\n",
    "    \"DTree\":DecisionTreeClassifier(),\n",
    "    \"GNB\":GaussianNB()\n",
    "}\n",
    "for k,v in classifiers.items(): v.fit(X_train, y_train);"
   ]
  },
  {
   "cell_type": "code",
   "execution_count": 59,
   "id": "4e609218",
   "metadata": {},
   "outputs": [
    {
     "name": "stdout",
     "output_type": "stream",
     "text": [
      "SVD \t:: Accuracy 0.9333333333333333, Balanced Accuracy 0.9302744039586145\n",
      "SVCrbf \t:: Accuracy 0.9333333333333333, Balanced Accuracy 0.9302744039586145\n",
      "KNN \t:: Accuracy 0.975, Balanced Accuracy 0.9741340530814214\n",
      "DTree \t:: Accuracy 0.9333333333333333, Balanced Accuracy 0.930949167791273\n",
      "GNB \t:: Accuracy 0.95, Balanced Accuracy 0.9484930274403959\n"
     ]
    }
   ],
   "source": [
    "from sklearn.metrics import accuracy_score, balanced_accuracy_score\n",
    "for k, v in classifiers.items():\n",
    "    y_pred = v.predict(X_test)\n",
    "    print( k, \"\\t:: Accuracy {}, Balanced Accuracy {}\".format( \n",
    "        accuracy_score(y_test, y_pred), \n",
    "        balanced_accuracy_score(y_test, y_pred)))"
   ]
  },
  {
   "cell_type": "markdown",
   "id": "02fd6b47",
   "metadata": {},
   "source": [
    "So is KNN really the best? What if we happened to pick a different train/test split?"
   ]
  },
  {
   "cell_type": "code",
   "execution_count": 60,
   "id": "f92c3b21",
   "metadata": {},
   "outputs": [],
   "source": [
    "classifiers = {\n",
    "    \"SVD\":SVC(),\n",
    "    \"SVCrbf\":SVC(kernel=\"rbf\"),\n",
    "    \"KNN\":KNeighborsClassifier(n_neighbors=3),\n",
    "    \"DTree\":DecisionTreeClassifier(),\n",
    "    \"GNB\":GaussianNB()\n",
    "}\n",
    "accuracy = { k:[] for k in classifiers }\n",
    "\n",
    "Nsplits = 100\n",
    "for i in range(Nsplits):\n",
    "    X_train, X_test, y_train, y_test = train_test_split(X_iris, y_iris, test_size=0.8, random_state=123*i + 42)\n",
    "\n",
    "    for k,v in classifiers.items(): \n",
    "        v.fit(X_train, y_train);\n",
    "        y_pred = v.predict(X_test)\n",
    "        accuracy[k].append(accuracy_score(y_test, y_pred))\n"
   ]
  },
  {
   "cell_type": "code",
   "execution_count": 67,
   "id": "69b5816f",
   "metadata": {},
   "outputs": [
    {
     "data": {
      "text/plain": [
       "<AxesSubplot:xlabel='value', ylabel='variable'>"
      ]
     },
     "execution_count": 67,
     "metadata": {},
     "output_type": "execute_result"
    },
    {
     "data": {
      "image/png": "[encoded data removed]",
      "text/plain": [
       "<Figure size 432x288 with 1 Axes>"
      ]
     },
     "metadata": {
      "needs_background": "light"
     },
     "output_type": "display_data"
    }
   ],
   "source": [
    "import seaborn as sns\n",
    "\n",
    "dfaccuracy = pd.DataFrame.from_dict(accuracy)\n",
    "sns.boxplot(x=\"value\", y=\"variable\", data=pd.melt(dfaccuracy))\n",
    "\n",
    "    "
   ]
  },
  {
   "cell_type": "code",
   "execution_count": 74,
   "id": "4de5314a",
   "metadata": {},
   "outputs": [
    {
     "data": {
      "image/png": "[encoded data removed]",
      "text/plain": [
       "<Figure size 432x288 with 1 Axes>"
      ]
     },
     "metadata": {
      "needs_background": "light"
     },
     "output_type": "display_data"
    }
   ],
   "source": [
    "for k in [\"SVD\",\"KNN\",\"GNB\"]: plt.hist(accuracy[k], bins=20, label=k, alpha=0.25)\n",
    "plt.legend()\n",
    "plt.show()"
   ]
  },
  {
   "cell_type": "markdown",
   "id": "fad62374",
   "metadata": {},
   "source": [
    "They all pretty much agree within errors. The point here is that doing one train test split is picking a random sample from each of these distributions and sorting them. That's not a good way to figure out the best model!\n",
    "\n",
    "#### Cross validation"
   ]
  },
  {
   "cell_type": "code",
   "execution_count": 123,
   "id": "4335ff5c",
   "metadata": {},
   "outputs": [],
   "source": [
    "from sklearn.model_selection import cross_val_score, KFold\n",
    "\n",
    "X_train, X_test, y_train, y_test = train_test_split(X_iris, y_iris, test_size=0.8, random_state=12345)\n",
    "\n",
    "def clf_accuracy(clf,X,y):\n",
    "    return accuracy_score(y, clf.predict(X))\n",
    "\n",
    "kaccuracy = {k:[] for k in classifiers}\n",
    "kaccuracy_std = {k:[] for k in classifiers}\n",
    "\n",
    "Ncvs = 100\n",
    "for i in range(Ncvs):\n",
    "    kf = KFold(n_splits=5, shuffle=True, random_state=12345*i + 42)\n",
    "    for k,v in classifiers.items(): \n",
    "        cvs = cross_val_score( v, X=X_train, y=y_train, cv=kf, scoring=clf_accuracy)\n",
    "        kaccuracy[k].append( cvs.mean() )\n",
    "        kaccuracy_std[k].append( cvs.std() )\n"
   ]
  },
  {
   "cell_type": "code",
   "execution_count": 124,
   "id": "b826e84a",
   "metadata": {},
   "outputs": [
    {
     "data": {
      "text/plain": [
       "<AxesSubplot:xlabel='value', ylabel='variable'>"
      ]
     },
     "execution_count": 124,
     "metadata": {},
     "output_type": "execute_result"
    },
    {
     "data": {
      "image/png": "[encoded data removed]",
      "text/plain": [
       "<Figure size 432x288 with 1 Axes>"
      ]
     },
     "metadata": {
      "needs_background": "light"
     },
     "output_type": "display_data"
    }
   ],
   "source": [
    "dfaccuracy = pd.DataFrame.from_dict(kaccuracy)\n",
    "sns.boxplot(x=\"value\", y=\"variable\", data=pd.melt(dfaccuracy))"
   ]
  },
  {
   "cell_type": "code",
   "execution_count": 125,
   "id": "e7271c68",
   "metadata": {},
   "outputs": [
    {
     "data": {
      "image/png": "[encoded data removed]",
      "text/plain": [
       "<Figure size 432x288 with 1 Axes>"
      ]
     },
     "metadata": {
      "needs_background": "light"
     },
     "output_type": "display_data"
    }
   ],
   "source": [
    "for k in [\"DTree\",\"KNN\",\"GNB\"]: plt.hist(kaccuracy[k], bins=5, label=k, alpha=0.25)\n",
    "plt.legend()\n",
    "plt.show()"
   ]
  },
  {
   "cell_type": "markdown",
   "id": "f3c9a5a1",
   "metadata": {},
   "source": [
    "So given this particular training data, CV suggests 3 of the algorithms are statistically equivalent. It's a good approximation to the results above. Note that I did CV many times! Just doing it once would give a list of numbers, which would show some particular order. We can't conclude from just one CV which classifier is the best."
   ]
  },
  {
   "cell_type": "code",
   "execution_count": 126,
   "id": "25b9cd35",
   "metadata": {},
   "outputs": [
    {
     "data": {
      "image/png": "[encoded data removed]",
      "text/plain": [
       "<Figure size 432x288 with 1 Axes>"
      ]
     },
     "metadata": {
      "needs_background": "light"
     },
     "output_type": "display_data"
    }
   ],
   "source": [
    "k=\"KNN\"\n",
    "import numpy as np\n",
    "\n",
    "plt.hist(kaccuracy_std[k], bins=10, alpha=0.25, label=\"measured {}\".format(np.array(kaccuracy[k]).std()) )\n",
    "plt.legend();"
   ]
  },
  {
   "cell_type": "markdown",
   "id": "40d0ad32",
   "metadata": {},
   "source": [
    "The histogram shows the standard deviation of all the Cross Validations. i.e. Each 5-fold cross validation gives 5 accuracys cvs = [x,x,x,x,x]. The standard deviation, cvs.std(), for each shuffled cross validation is recorded and shown in this histogram. The actual standard deviation of the mean scores is 0.028 which is quite a bit lower. i.e. The estimate cvs.std() oversetimates the variance.\n",
    "\n",
    "#### Leave one out"
   ]
  },
  {
   "cell_type": "code",
   "execution_count": 130,
   "id": "3220ceda",
   "metadata": {},
   "outputs": [
    {
     "name": "stdout",
     "output_type": "stream",
     "text": [
      "SVD :: Mean 0.833. STD: LOO 0.3726779962499649, 5Fold 0.05605057240266747, Actual 0.06168918507773918\n",
      "SVCrbf :: Mean 0.833. STD: LOO 0.3726779962499649, 5Fold 0.05605057240266747, Actual 0.06168918507773918\n",
      "KNN :: Mean 0.967. STD: LOO 0.17950549357115012, 5Fold 0.02840970100355004, Actual 0.023863035105460586\n",
      "DTree :: Mean 0.933. STD: LOO 0.24944382578492943, 5Fold 0.03909532509705533, Actual 0.033337916351605816\n",
      "GNB :: Mean 0.967. STD: LOO 0.17950549357115012, 5Fold 0.029881246441353305, Actual 0.028280710937158404\n"
     ]
    }
   ],
   "source": [
    "X_train, X_test, y_train, y_test = train_test_split(X_iris, y_iris, test_size=0.8, random_state=12345)\n",
    "\n",
    "def clf_accuracy(clf,X,y):\n",
    "    return accuracy_score(y, clf.predict(X))\n",
    "\n",
    "kf = KFold(n_splits=len(y_train), shuffle=True, random_state=12345*i + 42)\n",
    "for k,v in classifiers.items(): \n",
    "        cvs = cross_val_score( v, X=X_train, y=y_train, cv=kf, scoring=clf_accuracy)\n",
    "        print( k, \":: Mean {:.3f}. STD: LOO {}, 5Fold {}, Actual {}\".format( \n",
    "            cvs.mean(), \n",
    "            cvs.std(), \n",
    "            np.array(kaccuracy[k]).std(), \n",
    "            np.array(accuracy[k]).std()) )"
   ]
  },
  {
   "cell_type": "markdown",
   "id": "8f9a678d",
   "metadata": {},
   "source": [
    "Leave one out seems to greatly overestimate the variance!"
   ]
  },
  {
   "cell_type": "code",
   "execution_count": null,
   "id": "f5d8882c",
   "metadata": {},
   "outputs": [],
   "source": []
  }
 ],
 "metadata": {
  "kernelspec": {
   "display_name": "Python 3 (ipykernel)",
   "language": "python",
   "name": "python3"
  },
  "language_info": {
   "codemirror_mode": {
    "name": "ipython",
    "version": 3
   },
   "file_extension": ".py",
   "mimetype": "text/x-python",
   "name": "python",
   "nbconvert_exporter": "python",
   "pygments_lexer": "ipython3",
   "version": "3.8.10"
  }
 },
 "nbformat": 4,
 "nbformat_minor": 5
}

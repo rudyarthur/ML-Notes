{
 "cells": [
  {
   "cell_type": "code",
   "execution_count": 99,
   "id": "7466f11c",
   "metadata": {},
   "outputs": [
    {
     "data": {
      "text/plain": [
       "<AxesSubplot:ylabel='Count'>"
      ]
     },
     "execution_count": 99,
     "metadata": {},
     "output_type": "execute_result"
    },
    {
     "data": {
      "image/png": "[encoded data removed]",
      "text/plain": [
       "<Figure size 432x288 with 1 Axes>"
      ]
     },
     "metadata": {
      "needs_background": "light"
     },
     "output_type": "display_data"
    }
   ],
   "source": [
    "%matplotlib inline\n",
    "import os\n",
    "import pandas as pd\n",
    "import seaborn as sns\n",
    "\n",
    "data = pd.read_csv(os.getcwd() + \"/salary.csv\", header=None)\n",
    "sns.histplot(data)\n"
   ]
  },
  {
   "cell_type": "markdown",
   "id": "c6dd128b",
   "metadata": {},
   "source": [
    "It would be good if seaborn returned the bins and the counts! According to the docs it just uses numpy anyway..."
   ]
  },
  {
   "cell_type": "code",
   "execution_count": 110,
   "id": "ff9680d1",
   "metadata": {},
   "outputs": [
    {
     "data": {
      "text/plain": [
       "<BarContainer object of 425 artists>"
      ]
     },
     "execution_count": 110,
     "metadata": {},
     "output_type": "execute_result"
    },
    {
     "data": {
      "image/png": "[encoded data removed]",
      "text/plain": [
       "<Figure size 432x288 with 1 Axes>"
      ]
     },
     "metadata": {
      "needs_background": "light"
     },
     "output_type": "display_data"
    }
   ],
   "source": [
    "import numpy as np\n",
    "import matplotlib.pyplot as plt\n",
    "x = data[0].values\n",
    "counts, bin_edges = np.histogram(x, bins='auto')\n",
    "plt.bar( bin_edges[:-1], counts, width=np.diff(bin_edges),  align='edge' )"
   ]
  },
  {
   "cell_type": "markdown",
   "id": "69f6b23f",
   "metadata": {},
   "source": [
    "The 'auto' parameter uses some fancy estimator of the optimal number of bins. Let's see how this works...\n",
    "\n",
    "#### Basic Variables\n",
    "Assume the x values are in $[0,1]$ (if not scale them).<br> \n",
    "Let the count in a bin be $\\nu_i$.<br>\n",
    "The total number of observations is $n = \\sum_i \\nu_i$. This is fixed.<br>\n",
    "The number of bins is $m$ and therefore the bin width is $a = 1/m$. This is what we want to tune.<br>\n",
    "\n",
    "#### Relating probabilities and fucntions\n",
    "We assume there is some smooth function $f(x)$, which we are approximating with the histogram. If $x$ is in the bin $B$ then \n",
    "$$\\hat{p}_n(B) = \\frac{\\nu_i }{ n }$$ \n",
    "is our estimate of the probability of an observation falling in the bin. We use $n$ observations to construct this probability, hence the subscript. When we take expectations in a minute, we are taking expectations over many different samples of size $n$. \n",
    "\n",
    "An estimate of the function $f$ is \n",
    "$$\n",
    "\\hat{f}_n(x) = \\frac{\\hat{p}_n(B)}{a}\n",
    "$$\n",
    "Because\n",
    "$$\n",
    "E[ \\hat{f}_n(x) ] = \\frac{ E[ \\hat{p}_n(B) ]}{a} = \\frac{p(B)}{a} = \\frac{1}{a} \\int_B f(u)du \\simeq \\langle f \\rangle_B\n",
    "$$\n",
    "We used that the expected number of hits in $B$ is given by the proportion of the area under the function covered by $B$, that is $\\frac{\\int_B f}{\\int f} = \\int_B f$, where we assume the total area is 1. Then the value of an integral is the average value of a function in a region, $\\langle f \\rangle_B$ times the width of the region, $|B| = a$. Basically $p$ and $f$ are the same thing, just with factors of $a$ which I will put back at the end.\n",
    "\n",
    "#### Estimating the error we make\n",
    "An estimate of the error we make approximating the function $f$ is\n",
    "$$\n",
    "\\int (\\hat{f}_n - f)^2 = \\int \\hat{f}_n^2 - 2 \\int \\hat{f}_n f + \\int f^2\n",
    "$$\n",
    "The last part is fixed by whatever the function $f$, is so a good estimator will minimise the rest\n",
    "$$\n",
    "L =  \\int \\hat{f}_n^2 - 2 \\int f \\hat{f}_n\n",
    "$$\n",
    "We want the average over all possible $n$-tuples of data to be small so really we minimise\n",
    "$$\n",
    "J = E[L]\n",
    "$$\n",
    "\n",
    "#### Deriving the magic formula\n",
    "One way to do this (from [this](https://egrcc.github.io/docs/math/all-of-statistics.pdf) via [this](https://digitalassets.lib.berkeley.edu/sdtr/ucb/text/34.pdf)) relies on a mysterious identity. To understand it, fix a bin $B$. The chance of a value falling in this bin is $p(B)$ and the chance of it falling elsewhere is $1 - p(B)$. This is just a Bernoulli process so we can say that with $n$ observations we expect\n",
    "$$\n",
    "E[\\hat{p}_n] = p\n",
    "$$\n",
    "and\n",
    "$$\n",
    "Var[\\hat{p}_n] = \\frac{p(1-p)}{n}\n",
    "$$\n",
    "I've put the factors of $a$ back in, and note there's only 1 factor of $n$ in the variance. \n",
    "\n",
    "The last equation can be rewritten in a weird way\n",
    "$$\n",
    "Var[\\hat{p}_n] = E[\\hat{p}_n^2] - E[\\hat{p}_n]^2 = E[\\hat{p}_n^2] - p^2 = \\frac{1}{n}(p - p^2)\n",
    "$$\n",
    "Rearranging\n",
    "$$\n",
    "\\frac{1}{n-1}\\left( n E[\\hat{p}_n^2] - p \\right) = p^2\n",
    "$$\n",
    "This is kind of like Bessel's correction for standard deviation, we remove the bias for an estimate of $p^2$.\n",
    "\n",
    "#### Putting it together\n",
    "Push the expectations (over many size $n$ samples) through the integrals (over the range of the function) to get\n",
    "$$\n",
    "J = \\int E[\\hat{f}_n^2] - 2 \\int E[ f \\hat{f}_n ] = \\int E[\\hat{f}_n^2] - 2 \\int f^2\n",
    "$$\n",
    "Using the magic formula and taking out the factors of $a$ gives\n",
    "$$\n",
    "J = \\frac{1}{a} \\int E[\\hat{p}_n^2] -  \\frac{2}{n-1}\\left( n E[\\hat{p}_n^2] - p \\right)\n",
    "$$\n",
    "Which simplifies to\n",
    "$$\n",
    "J = \\frac{1}{a} \\left( \\int E[\\hat{p}_n^2](1 -  \\frac{2n}{n-1}) + \\int \\frac{2p}{n-1} \\right)\\\\\n",
    "= \\frac{1}{a} \\left(  \\frac{2}{n-1} - \\frac{n+1}{n-1}\\int E[\\hat{p}_n^2] \\right)\n",
    "$$\n",
    "The integral of the histogram is just a sum of rectangles, so it just turns into a sum over bins\n",
    "$$\n",
    "J = \\frac{2}{a(n-1)} - \\frac{n+1}{a(n-1)}\\sum_B \\hat{p}_n^2\n",
    "$$\n",
    "Note only the first term has an explicit factor of bin width.\n",
    "\n",
    "##### The code below is (basically) what is called the \"Stone\" method in numpy"
   ]
  },
  {
   "cell_type": "code",
   "execution_count": 245,
   "id": "82d3f730",
   "metadata": {},
   "outputs": [
    {
     "name": "stdout",
     "output_type": "stream",
     "text": [
      "26\n",
      "32\n"
     ]
    },
    {
     "data": {
      "text/plain": [
       "<matplotlib.legend.Legend at 0x7f8ff8b66fd0>"
      ]
     },
     "execution_count": 245,
     "metadata": {},
     "output_type": "execute_result"
    },
    {
     "data": {
      "image/png": "[encoded data removed]",
      "text/plain": [
       "<Figure size 432x288 with 1 Axes>"
      ]
     },
     "metadata": {
      "needs_background": "light"
     },
     "output_type": "display_data"
    }
   ],
   "source": [
    "def simple_hist(x, n):\n",
    "    bin_edges = np.linspace(x.min(), x.max(), n+1)\n",
    "    sx = np.sort(x)\n",
    "    ##any sane programmer would write a simple for loop here, something like\n",
    "    #counts = np.zeros(n)\n",
    "    #bin_id = 0\n",
    "    #for val in sx:\n",
    "    #    while val > bin_edge[bin_id+1]: bin_id += 1\n",
    "    #    counts[bin_id] += 1\n",
    "    #...but we are in numpy land, so have to do some weird voodoo\n",
    "    indices = np.searchsorted(sx, bin_edges[:-1], side='left')\n",
    "    counts = np.append( np.diff(indices), len(x) - indices[-1] )   \n",
    "    return bin_edges, counts\n",
    "\n",
    "def J(data, nbins):\n",
    "    width = (data.max() - data.min())\n",
    "    n = len(data)\n",
    "    bin_edges, counts = simple_hist(data,nbins)\n",
    "    a = width/nbins;\n",
    "    return ( 2./n - counts.dot(counts)/(n*n) )/a \n",
    "\n",
    "tx = np.random.normal(0,1,2000) \n",
    "\n",
    "stone_bins = np.argmin( np.array([ J(tx, i) for i in range(2,40) ]) ) + 2\n",
    "print(stone_bins)\n",
    "\n",
    "iqr = np.subtract(*np.percentile(tx, [75, 25]))\n",
    "fd_w = 2.0 * iqr * tx.size ** (-1.0 / 3.0)\n",
    "fd_bins = int((tx.max() - tx.min())/fd_w)\n",
    "print(fd_bins)\n",
    "\n",
    "counts, bins, artists = plt.hist(tx, bins=stone_bins, label=\"stone\", histtype='step')\n",
    "counts, bins, artists = plt.hist(tx, bins=fd_bins, label=\"Freedman-Diaconis\",  histtype='step')\n",
    "plt.legend()"
   ]
  },
  {
   "cell_type": "markdown",
   "id": "1984e378",
   "metadata": {},
   "source": [
    "Comparing the stone estimate above to the Freedman Diaconis estimate (a different, easier to compute one!) Works fine for Normal data. For data with \"fine details\" like below, it works way better than the FD estimate."
   ]
  },
  {
   "cell_type": "code",
   "execution_count": 247,
   "id": "ecfd8598",
   "metadata": {},
   "outputs": [
    {
     "name": "stdout",
     "output_type": "stream",
     "text": [
      "150\n",
      "22\n"
     ]
    },
    {
     "data": {
      "text/plain": [
       "<matplotlib.legend.Legend at 0x7f8ff8bf0b50>"
      ]
     },
     "execution_count": 247,
     "metadata": {},
     "output_type": "execute_result"
    },
    {
     "data": {
      "image/png": "[encoded data removed]",
      "text/plain": [
       "<Figure size 432x288 with 1 Axes>"
      ]
     },
     "metadata": {
      "needs_background": "light"
     },
     "output_type": "display_data"
    }
   ],
   "source": [
    "tx = np.random.poisson(1,2000) + np.random.normal(0,0.1,2000)\n",
    "\n",
    "stone_bins = np.argmin( np.array([ J(tx, i) for i in range(2,200) ]) ) + 2\n",
    "print(stone_bins)\n",
    "\n",
    "iqr = np.subtract(*np.percentile(tx, [75, 25]))\n",
    "fd_w = 2.0 * iqr * tx.size ** (-1.0 / 3.0)\n",
    "fd_bins = int((tx.max() - tx.min())/fd_w)\n",
    "print(fd_bins)\n",
    "\n",
    "counts, bins, artists = plt.hist(tx, bins=stone_bins, label=\"stone\", histtype='step')\n",
    "counts, bins, artists = plt.hist(tx, bins=fd_bins, label=\"Freedman-Diaconis\", histtype='step')\n",
    "plt.legend()"
   ]
  },
  {
   "cell_type": "code",
   "execution_count": 238,
   "id": "ba9e263f",
   "metadata": {},
   "outputs": [
    {
     "name": "stdout",
     "output_type": "stream",
     "text": [
      "9 11\n",
      "16\n"
     ]
    },
    {
     "data": {
      "text/plain": [
       "<matplotlib.legend.Legend at 0x7f8ff8dc1ac0>"
      ]
     },
     "execution_count": 238,
     "metadata": {},
     "output_type": "execute_result"
    },
    {
     "data": {
      "image/png": "[encoded data removed]",
      "text/plain": [
       "<Figure size 432x288 with 1 Axes>"
      ]
     },
     "metadata": {
      "needs_background": "light"
     },
     "output_type": "display_data"
    }
   ],
   "source": [
    "tx = np.random.poisson(4,200) \n",
    "stone_bins = np.argmin( np.array([ J(tx, i) for i in range(1, len(set(tx))) ]) ) + 2\n",
    "print(stone_bins, len(set(tx)))\n",
    "\n",
    "iqr = np.subtract(*np.percentile(tx, [75, 25]))\n",
    "fd_w = 2.0 * iqr * tx.size ** (-1.0 / 3.0)\n",
    "fd_bins = int((tx.max() - tx.min())/fd_w)\n",
    "print(fd_bins)\n",
    "\n",
    "counts, bins, artists = plt.hist(tx, bins=stone_bins, label=\"stone\", histtype='step')\n",
    "counts, bins, artists = plt.hist(tx, bins=fd_bins, label=\"Freedman-Diaconis\", histtype='step')\n",
    "plt.legend()"
   ]
  },
  {
   "cell_type": "markdown",
   "id": "6d53dc22",
   "metadata": {},
   "source": [
    "Say we have $K$ observations of the same integer then there will always be a bin $B$, with at least $K$ counts in it, contributing $K^2$ to the sum so\n",
    "$$\n",
    "-p_n(B)/a = -K^2/a\n",
    "$$\n",
    "can get arbitrarily small by just making $a$ as small as possible. Can get it to work if you restrict to have no more than 1 bin per count.\n",
    "\n",
    "### Cross Validation\n",
    "\n",
    "Again, the Risk is\n",
    "$$\n",
    "J = \\int \\hat{f_n}^2 - 2 \\int \\hat{f_n} f\n",
    "$$\n",
    "The first term is the sum of squares of the histogram heights, easy enough to compute. The second term is (-2 times) the average height of the histogram (treating $f$ like a probability density). A (very expensive) estimate of the second term is \n",
    "1. Compute $f_{n, -i}$ the histogram without the data point $X_i$. \n",
    "2. Use that histogram to estimate $f$ at $X_i$.\n",
    "3. Do this for all data points and average."
   ]
  },
  {
   "cell_type": "code",
   "execution_count": 384,
   "id": "eccec5cf",
   "metadata": {},
   "outputs": [
    {
     "name": "stdout",
     "output_type": "stream",
     "text": [
      "23\n",
      "11\n",
      "13\n"
     ]
    },
    {
     "data": {
      "text/plain": [
       "<matplotlib.legend.Legend at 0x7f8ff5e4bee0>"
      ]
     },
     "execution_count": 384,
     "metadata": {},
     "output_type": "execute_result"
    },
    {
     "data": {
      "image/png": "[encoded data removed]",
      "text/plain": [
       "<Figure size 432x288 with 1 Axes>"
      ]
     },
     "metadata": {
      "needs_background": "light"
     },
     "output_type": "display_data"
    }
   ],
   "source": [
    "def simple_hist_range(x, n, xmin, xmax):\n",
    "    bin_edges = np.linspace(xmin, xmax, n+1)\n",
    "    sx = np.sort(x)\n",
    "    ##any sane programmer would write a simple for loop here, something like\n",
    "    #counts = np.zeros(n)\n",
    "    #bin_id = 0\n",
    "    #for val in sx:\n",
    "    #    while val > bin_edge[bin_id+1]: bin_id += 1\n",
    "    #    counts[bin_id] += 1\n",
    "    #...but we are in numpy land, so have to do some weird voodoo\n",
    "    indices = np.searchsorted(sx, bin_edges[:-1], side='left')\n",
    "    counts = np.append( np.diff(indices), len(x) - indices[-1] )   \n",
    "    return bin_edges, counts\n",
    "\n",
    "\n",
    "def Jloo(data, nbins):\n",
    "    width = (data.max() - data.min())\n",
    "    n = len(data)\n",
    "    bin_edges, counts = simple_hist(data,nbins)\n",
    "    a = width/nbins;\n",
    "    \n",
    "    J1 = counts.dot(counts)/(n*n)\n",
    "    \n",
    "    av_hist = 0\n",
    "    for b in range(n):\n",
    "        _data = np.concatenate( (data[:b] , data[b+1:]) )\n",
    "        bin_edges, _counts = simple_hist_range(_data, nbins, data.min(), data.max())\n",
    "        idx = min(np.argmin( np.abs(data[b] - bin_edges)), nbins-1 )        \n",
    "        av_hist += _counts[idx]/n\n",
    "    av_hist /= n;\n",
    "    #print(J1, av_hist)\n",
    "    return (J1 - 2*av_hist)/a\n",
    "\n",
    "\n",
    "tx = np.random.normal(0,1,200) \n",
    "#vals = np.array([ Jloo(tx, i) for i in range(2,200) ]) \n",
    "#plt.scatter(range(2,200), vals)\n",
    "\n",
    "loo_bins = np.argmin( np.array([ Jloo(tx, i) for i in range(2,40) ]) ) + 2\n",
    "print(loo_bins)\n",
    "\n",
    "stone_bins = np.argmin( np.array([ J(tx, i) for i in range(2,40) ]) ) + 2\n",
    "print(stone_bins)\n",
    "\n",
    "iqr = np.subtract(*np.percentile(tx, [75, 25]))\n",
    "fd_w = 2.0 * iqr * tx.size ** (-1.0 / 3.0)\n",
    "fd_bins = int((tx.max() - tx.min())/fd_w)\n",
    "print(fd_bins)\n",
    "\n",
    "counts, bins, artists = plt.hist(tx, bins=loo_bins, label=\"LOO\",  histtype='step')\n",
    "counts, bins, artists = plt.hist(tx, bins=stone_bins, label=\"stone\", histtype='step')\n",
    "counts, bins, artists = plt.hist(tx, bins=fd_bins, label=\"Freedman-Diaconis\",  histtype='step')\n",
    "\n",
    "plt.legend()\n"
   ]
  },
  {
   "cell_type": "markdown",
   "id": "e0e05e4f",
   "metadata": {},
   "source": [
    "For many data points this is expensive. It also doesn't seem particularly good.\n",
    "\n",
    "#### Bands\n",
    "\n",
    "Histograms like everythign else, should have error bars. There is an error estimate (see [here](https://egrcc.github.io/docs/math/all-of-statistics.pdf) Theorem 20.10) but we can try bootstrap instead."
   ]
  },
  {
   "cell_type": "code",
   "execution_count": 429,
   "id": "56430ca6",
   "metadata": {},
   "outputs": [
    {
     "data": {
      "text/plain": [
       "<BarContainer object of 19 artists>"
      ]
     },
     "execution_count": 429,
     "metadata": {},
     "output_type": "execute_result"
    },
    {
     "data": {
      "image/png": "[encoded data removed]",
      "text/plain": [
       "<Figure size 432x288 with 1 Axes>"
      ]
     },
     "metadata": {
      "needs_background": "light"
     },
     "output_type": "display_data"
    }
   ],
   "source": [
    "np.random.seed(1243455361)\n",
    "tx = np.random.normal(0,1,400) \n",
    "\n",
    "stone_bins = np.argmin( np.array([ J(tx, i) for i in range(2,40) ]) ) + 2\n",
    "\n",
    "bin_edges, counts = simple_hist(tx, stone_bins)\n",
    "\n",
    "def boots(data, nbins, Nboots=100, conf=0.95):\n",
    "    \n",
    "    samples = np.empty( (Nboots,nbins) )\n",
    "    for b in range(Nboots):\n",
    "        _data = np.random.choice(data, len(data), replace=True)\n",
    "        bin_edges, counts = simple_hist_range(_data, nbins, data.min(), data.max())\n",
    "        samples[b] = counts\n",
    "    sd = np.sort(samples, axis=0)\n",
    "    lower = sd[ int( (1-conf)*Nboots )  ]\n",
    "    upper = sd[ int( conf*Nboots )  ]\n",
    "\n",
    "    return lower, upper\n",
    "lower, upper = boots(tx, stone_bins)\n",
    "\n",
    "plt.bar( bin_edges[:-1], counts, width=np.diff(bin_edges),  align='edge', yerr=np.array( [counts-lower, upper-counts] ) )\n",
    "\n",
    "\n"
   ]
  },
  {
   "cell_type": "markdown",
   "id": "1ade6fa2",
   "metadata": {},
   "source": [
    "Try it on the salary data"
   ]
  },
  {
   "cell_type": "code",
   "execution_count": 431,
   "id": "fdf3bace",
   "metadata": {},
   "outputs": [
    {
     "data": {
      "image/png": "[encoded data removed]",
      "text/plain": [
       "<Figure size 432x288 with 1 Axes>"
      ]
     },
     "metadata": {
      "needs_background": "light"
     },
     "output_type": "display_data"
    }
   ],
   "source": [
    "data = pd.read_csv(os.getcwd() + \"/salary.csv\", header=None)\n",
    "x = data[0].values\n",
    "stone_bins = np.argmin( np.array([ J(x, i) for i in range(2,100) ]) ) + 2\n",
    "\n",
    "bin_edges, counts = simple_hist(x, stone_bins)\n",
    "lower, upper = boots(x, stone_bins)\n",
    "\n",
    "plt.bar( bin_edges[:-1], counts, width=np.diff(bin_edges),  align='edge', yerr=np.array( [counts-lower, upper-counts] ), label=\"Using {} bins\".format(stone_bins) )\n",
    "plt.legend();"
   ]
  },
  {
   "cell_type": "markdown",
   "id": "8b03a5aa",
   "metadata": {},
   "source": [
    "#### Bias-variance trade-off\n",
    "There is an interesting relationship that tells us how good a histogram can possibly be at representing the true distribution. Recall the integrated squared error is\n",
    "$$\n",
    "L = \\int (f - \\hat{f_n})^2\n",
    "$$\n",
    "and the risk is\n",
    "$$\n",
    "R = E[L]\n",
    "$$\n",
    "Define the bias (how close the expected estimate is to the true value)\n",
    "$$\n",
    "b = E[ \\hat{f_n} ] - f\n",
    "$$\n",
    "and the variance (how noisy the estimates are)\n",
    "$$\n",
    "v = E[ (\\hat{f_n} - E[ \\hat{f_n} ])^2 ]\n",
    "$$\n",
    "Subbing in and doing many cancellations shows that\n",
    "$$\n",
    "R = \\int b^2 + \\int v\n",
    "$$\n",
    "\n",
    "#### Histograms and bias-variace\n",
    "\n",
    "Using a histogram to estimate $f$ the bias is\n",
    "$$\n",
    "b(x) = E[ \\hat{f_n}(x) ] - f(x) = \\frac{p(B)}{h} - f(x)\n",
    "$$\n",
    "Where $x \\in B$. Recall $p(B)$ is the average value of $f$ in $B$ so $p(B) = \\int_B f(u) du$. Using a very ropey approximation,\n",
    "$$\n",
    "f(u) \\simeq f(x) + f'(x) (u-x)\n",
    "$$\n",
    "Doing the integral, assuming we have a very small rectangle and that $B$ is the $j$th bin, \n",
    "$$\n",
    "p(B) \\simeq hf(x) + h f'(x) ( hj - x )\n",
    "$$\n",
    "Hence\n",
    "$$\n",
    "b(x) = f'(x) ( hj - x )\n",
    "$$\n",
    "If $f$ is constant in the bin then\n",
    "$$\n",
    "\\int_B b^2 \\simeq f'(x)^2 \\int_B ( hj - x )^2 dx = c_1 f'(x)^2 h^3\n",
    "$$\n",
    "for some constant $c_1$. Summing up all the bins to get the total bias\n",
    "$$\n",
    "\\int b^2 \\simeq \\sum^m c_1 f'(x)^2 h^3 = c_1 h^2 \\sum^m h f'(x)^2 \\simeq c_1 h^2 \\int f'(x)^2\n",
    "$$\n",
    "The important thing is the factor of $h^2$ (also, assuming all the integrals exist).\n",
    "\n",
    "Recall the variance\n",
    "$$\n",
    "v = \\frac{p_j(1-p_j)}{nh^2}\n",
    "$$\n",
    "Using the same Taylor expansion and keeping only the lowest order terms (in $h$)\n",
    "$$\n",
    "v(x) \\simeq \\frac{f(x)}{nh}\n",
    "$$\n",
    "So\n",
    "$$\n",
    "\\int v = \\frac{1}{nh}\n",
    "$$\n",
    "\n",
    "\n",
    "The Risk is therefore\n",
    "$$\n",
    "R = c_2 h^2 + \\frac{1}{nh}\n",
    "$$\n",
    "Minimising this implies\n",
    "$$\n",
    "\\frac{dR}{dh} = 0 \\implies h \\sim \\frac{1}{n^{1/3}} \n",
    "$$\n",
    "So\n",
    "$$\n",
    "R \\sim c_3 n^{-2/3} + c_4 \\frac{1}{n (n^{-1/3}) } \\\\\n",
    "R \\sim n^{-2/3}\n",
    "$$\n",
    "\n",
    "So, if you pick a perfect bin width the error decreases like $n^{-2/3}$. The optimal value of $h$ given here requires knowing the function $f$ so we can't use it. This rate of decrease is not bad but not great either. Turns out an optimal KDE can go like $n^{-4/5}$, which is the best possible rate for a non-parametric estimator."
   ]
  },
  {
   "cell_type": "code",
   "execution_count": null,
   "id": "3199a137",
   "metadata": {},
   "outputs": [],
   "source": []
  }
 ],
 "metadata": {
  "kernelspec": {
   "display_name": "Python 3 (ipykernel)",
   "language": "python",
   "name": "python3"
  },
  "language_info": {
   "codemirror_mode": {
    "name": "ipython",
    "version": 3
   },
   "file_extension": ".py",
   "mimetype": "text/x-python",
   "name": "python",
   "nbconvert_exporter": "python",
   "pygments_lexer": "ipython3",
   "version": "3.8.10"
  }
 },
 "nbformat": 4,
 "nbformat_minor": 5
}

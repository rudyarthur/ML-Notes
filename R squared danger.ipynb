{
 "cells": [
  {
   "cell_type": "code",
   "execution_count": 6,
   "id": "9e1e78a2",
   "metadata": {},
   "outputs": [],
   "source": [
    "import statsmodels.api as sm\n",
    "import numpy as np\n",
    "import matplotlib.pyplot as plt\n",
    "np.random.seed(123456789)"
   ]
  },
  {
   "cell_type": "code",
   "execution_count": 7,
   "id": "e92fe084",
   "metadata": {},
   "outputs": [
    {
     "data": {
      "text/plain": [
       "(array([ 4.,  0.,  2.,  6.,  9., 15.,  9., 10., 12.,  9.,  8.,  4.,  4.,\n",
       "         0.,  4.,  3.,  0.,  0.,  0.,  1.]),\n",
       " array([1.11314892, 1.37185377, 1.63055863, 1.88926348, 2.14796834,\n",
       "        2.4066732 , 2.66537805, 2.92408291, 3.18278776, 3.44149262,\n",
       "        3.70019748, 3.95890233, 4.21760719, 4.47631204, 4.7350169 ,\n",
       "        4.99372176, 5.25242661, 5.51113147, 5.76983632, 6.02854118,\n",
       "        6.28724603]),\n",
       " <BarContainer object of 20 artists>)"
      ]
     },
     "execution_count": 7,
     "metadata": {},
     "output_type": "execute_result"
    },
    {
     "data": {
      "image/png": "[encoded data removed]",
      "text/plain": [
       "<Figure size 432x288 with 1 Axes>"
      ]
     },
     "metadata": {
      "needs_background": "light"
     },
     "output_type": "display_data"
    }
   ],
   "source": [
    "x = np.random.normal(loc=3,scale=1,size=100)\n",
    "plt.hist(x, bins=20)"
   ]
  },
  {
   "cell_type": "code",
   "execution_count": 8,
   "id": "8421915e",
   "metadata": {},
   "outputs": [
    {
     "data": {
      "text/plain": [
       "(array([ 3.,  1.,  6.,  5.,  5.,  5.,  6.,  9., 11., 12.,  6., 10.,  6.,\n",
       "         7.,  2.,  4.,  1.,  0.,  0.,  1.]),\n",
       " array([0.79488547, 0.8162744 , 0.83766333, 0.85905226, 0.88044119,\n",
       "        0.90183012, 0.92321905, 0.94460798, 0.96599691, 0.98738583,\n",
       "        1.00877476, 1.03016369, 1.05155262, 1.07294155, 1.09433048,\n",
       "        1.11571941, 1.13710834, 1.15849726, 1.17988619, 1.20127512,\n",
       "        1.22266405]),\n",
       " <BarContainer object of 20 artists>)"
      ]
     },
     "execution_count": 8,
     "metadata": {},
     "output_type": "execute_result"
    },
    {
     "data": {
      "image/png": "[encoded data removed]",
      "text/plain": [
       "<Figure size 432x288 with 1 Axes>"
      ]
     },
     "metadata": {
      "needs_background": "light"
     },
     "output_type": "display_data"
    }
   ],
   "source": [
    "y = np.random.normal(loc=1,scale=0.1,size=100)\n",
    "plt.hist(y, bins=20)"
   ]
  },
  {
   "cell_type": "markdown",
   "id": "1267d236",
   "metadata": {},
   "source": [
    "## Problem with R-squared comparisons between models with(out) an intercept"
   ]
  },
  {
   "cell_type": "code",
   "execution_count": 24,
   "id": "35e01744",
   "metadata": {},
   "outputs": [
    {
     "data": {
      "text/plain": [
       "(100, 2)"
      ]
     },
     "execution_count": 24,
     "metadata": {},
     "output_type": "execute_result"
    }
   ],
   "source": [
    "z = x + 2*y + np.random.normal(0,2,100)\n",
    "X = np.vstack([x,y]).transpose()\n",
    "X.shape"
   ]
  },
  {
   "cell_type": "markdown",
   "id": "7ebb982f",
   "metadata": {},
   "source": [
    "The model here `z = x + 2y` doesn't have an intercept when (x,y) = 0, z = 0. So it should be better to fit it without an intercept"
   ]
  },
  {
   "cell_type": "code",
   "execution_count": 34,
   "id": "382a8472",
   "metadata": {},
   "outputs": [
    {
     "name": "stdout",
     "output_type": "stream",
     "text": [
      "fit with intercept = 0.17862466754810813\n",
      "fit without intercept = 0.874643036379007\n"
     ]
    }
   ],
   "source": [
    "nointercept_model = sm.OLS(z, X).fit()\n",
    "Xc= sm.add_constant(X)  #allows nonzero intercept\n",
    "intercept_model = sm.OLS(z, Xc).fit()\n",
    "print(\"R-squared with intercept =\", intercept_model.rsquared )\n",
    "print(\"R-squared without intercept =\", nointercept_model.rsquared )"
   ]
  },
  {
   "cell_type": "markdown",
   "id": "3d1f60cc",
   "metadata": {},
   "source": [
    "The difference is massive! But that seems suspicious..."
   ]
  },
  {
   "cell_type": "code",
   "execution_count": 35,
   "id": "a8076bd6",
   "metadata": {},
   "outputs": [
    {
     "name": "stdout",
     "output_type": "stream",
     "text": [
      "                            OLS Regression Results                            \n",
      "==============================================================================\n",
      "Dep. Variable:                      y   R-squared:                       0.179\n",
      "Model:                            OLS   Adj. R-squared:                  0.162\n",
      "Method:                 Least Squares   F-statistic:                     10.55\n",
      "Date:                Mon, 21 Aug 2023   Prob (F-statistic):           7.17e-05\n",
      "Time:                        07:54:23   Log-Likelihood:                -210.73\n",
      "No. Observations:                 100   AIC:                             427.5\n",
      "Df Residuals:                      97   BIC:                             435.3\n",
      "Df Model:                           2                                         \n",
      "Covariance Type:            nonrobust                                         \n",
      "==============================================================================\n",
      "                 coef    std err          t      P>|t|      [0.025      0.975]\n",
      "------------------------------------------------------------------------------\n",
      "const         -0.0172      2.394     -0.007      0.994      -4.768       4.734\n",
      "x1             0.9503      0.213      4.466      0.000       0.528       1.373\n",
      "x2             2.2718      2.350      0.967      0.336      -2.392       6.936\n",
      "==============================================================================\n",
      "Omnibus:                        7.075   Durbin-Watson:                   1.790\n",
      "Prob(Omnibus):                  0.029   Jarque-Bera (JB):               12.153\n",
      "Skew:                           0.143   Prob(JB):                      0.00230\n",
      "Kurtosis:                       4.684   Cond. No.                         57.9\n",
      "==============================================================================\n",
      "\n",
      "Notes:\n",
      "[1] Standard Errors assume that the covariance matrix of the errors is correctly specified.\n"
     ]
    }
   ],
   "source": [
    "print( intercept_model.summary() )"
   ]
  },
  {
   "cell_type": "markdown",
   "id": "2653c109",
   "metadata": {},
   "source": [
    "The intercept term is statistically equivalent to zero. The best fit value is quite small, so the intercept has barely any influence on the predictions. How can the R-squareds be so different?\n",
    "\n",
    "Check out: https://www.statsmodels.org/stable/generated/statsmodels.regression.linear_model.RegressionResults.rsquared.html#statsmodels.regression.linear_model.RegressionResults.rsquared\n",
    "\n",
    "```\n",
    "This is defined here as 1 - ssr/centered_tss if the constant is included in the model and 1 - ssr/uncentered_tss if the constant is omitted.\n",
    "```\n",
    "TSS means Total Sum of Squares\n",
    "\n",
    "The centred_tss is\n",
    "sum (yi - yav)**2\n",
    "\n",
    "The uncentered_tss is (I assume)\n",
    "sum (yi)**2\n",
    "\n",
    "The second thing will be much bigger, since the output variables have a non-zero mean. This much bigger thing will divide the residual sum of squares and make it smaller, giving R squared much closer to 1\n"
   ]
  },
  {
   "cell_type": "code",
   "execution_count": 36,
   "id": "6b2f60cb",
   "metadata": {},
   "outputs": [
    {
     "name": "stdout",
     "output_type": "stream",
     "text": [
      "SSR with intercept = 396.15194648356356\n",
      "SSR without intercept = 396.1521568856103\n"
     ]
    }
   ],
   "source": [
    "print(\"SSR with intercept =\", intercept_model.ssr )\n",
    "print(\"SSR without intercept =\", nointercept_model.ssr )"
   ]
  },
  {
   "cell_type": "markdown",
   "id": "9ceeca13",
   "metadata": {},
   "source": [
    "The sum of squared residuals `sum (yi - predi)**2` can be compared between models and makes much more sense"
   ]
  },
  {
   "cell_type": "markdown",
   "id": "fa891953",
   "metadata": {},
   "source": [
    "## An alternative, out of sample testing"
   ]
  },
  {
   "cell_type": "markdown",
   "id": "089f3cb8",
   "metadata": {},
   "source": [
    "Comparing the SSR is not ideal. Among other things, the number depends on the number of absolute values of the output. So if we change its units it changes. The noce thing about Rsquared is that **good==1** is very intuitive. Could compare AIC and BIC, but same issue with interpretability."
   ]
  },
  {
   "cell_type": "code",
   "execution_count": 40,
   "id": "8519c4f1",
   "metadata": {},
   "outputs": [],
   "source": [
    "from sklearn.model_selection import train_test_split\n",
    "X_train, X_test, z_train, z_test = train_test_split(X, z, test_size=0.2, random_state=12345)"
   ]
  },
  {
   "cell_type": "code",
   "execution_count": 41,
   "id": "e636ca6e",
   "metadata": {},
   "outputs": [],
   "source": [
    "nointercept_model = sm.OLS(z_train, X_train).fit()\n",
    "Xc_train= sm.add_constant(X_train)  #allows nonzero intercept\n",
    "intercept_model = sm.OLS(z_train, Xc_train).fit()"
   ]
  },
  {
   "cell_type": "code",
   "execution_count": 44,
   "id": "14d6fe91",
   "metadata": {},
   "outputs": [
    {
     "name": "stdout",
     "output_type": "stream",
     "text": [
      "                            OLS Regression Results                            \n",
      "==============================================================================\n",
      "Dep. Variable:                      y   R-squared:                       0.217\n",
      "Model:                            OLS   Adj. R-squared:                  0.197\n",
      "Method:                 Least Squares   F-statistic:                     10.66\n",
      "Date:                Mon, 21 Aug 2023   Prob (F-statistic):           8.16e-05\n",
      "Time:                        08:33:58   Log-Likelihood:                -167.94\n",
      "No. Observations:                  80   AIC:                             341.9\n",
      "Df Residuals:                      77   BIC:                             349.0\n",
      "Df Model:                           2                                         \n",
      "Covariance Type:            nonrobust                                         \n",
      "==============================================================================\n",
      "                 coef    std err          t      P>|t|      [0.025      0.975]\n",
      "------------------------------------------------------------------------------\n",
      "const          1.0639      2.541      0.419      0.677      -3.996       6.124\n",
      "x1             1.0538      0.230      4.582      0.000       0.596       1.512\n",
      "x2             0.7818      2.532      0.309      0.758      -4.261       5.825\n",
      "==============================================================================\n",
      "Omnibus:                        8.982   Durbin-Watson:                   1.553\n",
      "Prob(Omnibus):                  0.011   Jarque-Bera (JB):               16.916\n",
      "Skew:                           0.278   Prob(JB):                     0.000212\n",
      "Kurtosis:                       5.183   Cond. No.                         55.0\n",
      "==============================================================================\n",
      "\n",
      "Notes:\n",
      "[1] Standard Errors assume that the covariance matrix of the errors is correctly specified.\n",
      "                                 OLS Regression Results                                \n",
      "=======================================================================================\n",
      "Dep. Variable:                      y   R-squared (uncentered):                   0.872\n",
      "Model:                            OLS   Adj. R-squared (uncentered):              0.869\n",
      "Method:                 Least Squares   F-statistic:                              266.0\n",
      "Date:                Mon, 21 Aug 2023   Prob (F-statistic):                    1.47e-35\n",
      "Time:                        08:33:58   Log-Likelihood:                         -168.03\n",
      "No. Observations:                  80   AIC:                                      340.1\n",
      "Df Residuals:                      78   BIC:                                      344.8\n",
      "Df Model:                           2                                                  \n",
      "Covariance Type:            nonrobust                                                  \n",
      "==============================================================================\n",
      "                 coef    std err          t      P>|t|      [0.025      0.975]\n",
      "------------------------------------------------------------------------------\n",
      "x1             1.0750      0.223      4.817      0.000       0.631       1.519\n",
      "x2             1.7963      0.733      2.452      0.016       0.338       3.255\n",
      "==============================================================================\n",
      "Omnibus:                        9.874   Durbin-Watson:                   1.545\n",
      "Prob(Omnibus):                  0.007   Jarque-Bera (JB):               19.597\n",
      "Skew:                           0.314   Prob(JB):                     5.55e-05\n",
      "Kurtosis:                       5.342   Cond. No.                         11.4\n",
      "==============================================================================\n",
      "\n",
      "Notes:\n",
      "[1] R² is computed without centering (uncentered) since the model does not contain a constant.\n",
      "[2] Standard Errors assume that the covariance matrix of the errors is correctly specified.\n"
     ]
    }
   ],
   "source": [
    "print(intercept_model.summary())\n",
    "print(nointercept_model.summary())"
   ]
  },
  {
   "cell_type": "markdown",
   "id": "7499c636",
   "metadata": {},
   "source": [
    "Note: the nointercept model is way better, as it should be, because it models the data using the right function! To compare the models with something like R-squared we can follow https://stats.stackexchange.com/questions/228540/how-to-calculate-out-of-sample-r-squared, see also https://arxiv.org/pdf/2302.05131.pdf\n",
    "\n",
    "We have some baseline for MSE which we compare to out of sample (OOS) predictions\n",
    "R_OSS = 1 - MSE_model / MSE_baseline\n"
   ]
  },
  {
   "cell_type": "code",
   "execution_count": 79,
   "id": "07a526fd",
   "metadata": {},
   "outputs": [
    {
     "name": "stdout",
     "output_type": "stream",
     "text": [
      "R_OSS(intercept) = 0.04886037975215063\n",
      "R_OSS(no_intercept) = 0.06731354353233754\n"
     ]
    }
   ],
   "source": [
    "zbar = np.mean(z)\n",
    "n_test = z_test.shape[0]\n",
    "TSS = (np.sum( (z_test - zbar)**2 )/(n_test-1))*( (n_test + 1)/n_test )\n",
    "TSS #this is Variance of the test set around the sample average times some scaling factor that probably doesn't matter\n",
    "\n",
    "\n",
    "nointercept_pred = nointercept_model.predict(X_test)\n",
    "Xc_test= sm.add_constant(X_test)  #allows nonzero intercept\n",
    "intercept_pred = intercept_model.predict(Xc_test)\n",
    "\n",
    "def MSE_OOS(pred):\n",
    "    return np.sum( (z_test - pred)**2 )/n_test\n",
    "\n",
    "print( \"R_OSS(intercept) =\", 1 - MSE_OOS(intercept_pred)/TSS )\n",
    "print( \"R_OSS(no_intercept) =\", 1 - MSE_OOS(nointercept_pred)/TSS )"
   ]
  },
  {
   "cell_type": "markdown",
   "id": "eccbc14d",
   "metadata": {},
   "source": [
    "This means \n",
    "1. the no intercept model is a bit better than the intercept one.  \n",
    "2. The model, just barely, outperforms the benchmark model (predicting outputs based on the average value)"
   ]
  },
  {
   "cell_type": "markdown",
   "id": "a645b381",
   "metadata": {},
   "source": [
    "Let's do the same analysis with less noisy data:"
   ]
  },
  {
   "cell_type": "code",
   "execution_count": 108,
   "id": "f226fc5f",
   "metadata": {},
   "outputs": [
    {
     "name": "stdout",
     "output_type": "stream",
     "text": [
      "(80, 2)\n",
      "                            OLS Regression Results                            \n",
      "==============================================================================\n",
      "Dep. Variable:                      y   R-squared:                       0.914\n",
      "Model:                            OLS   Adj. R-squared:                  0.912\n",
      "Method:                 Least Squares   F-statistic:                     411.6\n",
      "Date:                Mon, 21 Aug 2023   Prob (F-statistic):           7.74e-42\n",
      "Time:                        09:34:19   Log-Likelihood:                -20.792\n",
      "No. Observations:                  80   AIC:                             47.58\n",
      "Df Residuals:                      77   BIC:                             54.73\n",
      "Df Model:                           2                                         \n",
      "Covariance Type:            nonrobust                                         \n",
      "==============================================================================\n",
      "                 coef    std err          t      P>|t|      [0.025      0.975]\n",
      "------------------------------------------------------------------------------\n",
      "const          0.9352      0.404      2.316      0.023       0.131       1.739\n",
      "x1             1.0380      0.037     28.399      0.000       0.965       1.111\n",
      "x2             0.9678      0.402      2.405      0.019       0.166       1.769\n",
      "==============================================================================\n",
      "Omnibus:                        5.929   Durbin-Watson:                   1.729\n",
      "Prob(Omnibus):                  0.052   Jarque-Bera (JB):                5.234\n",
      "Skew:                          -0.518   Prob(JB):                       0.0730\n",
      "Kurtosis:                       3.705   Cond. No.                         55.0\n",
      "==============================================================================\n",
      "\n",
      "Notes:\n",
      "[1] Standard Errors assume that the covariance matrix of the errors is correctly specified.\n",
      "R-squared with intercept = 0.9144600643506104\n",
      "R-squared without intercept = 0.9960662055527627\n",
      "R_OSS(intercept) = 0.9084872866276139\n",
      "R_OSS(no_intercept) = 0.9070957634514216\n"
     ]
    }
   ],
   "source": [
    "##everythign in one cell!\n",
    "##make up some data\n",
    "z = x + 2*y + np.random.normal(0,0.3,100)\n",
    "X = np.vstack([x,y]).transpose()\n",
    "\n",
    "X_train, X_test, z_train, z_test = train_test_split(X, z, test_size=0.2, random_state=12345)\n",
    "\n",
    "nointercept_model = sm.OLS(z_train, X_train).fit()\n",
    "Xc_train= sm.add_constant(X_train)  #allows nonzero intercept\n",
    "intercept_model = sm.OLS(z_train, Xc_train).fit()\n",
    "\n",
    "zbar = np.mean(z)\n",
    "n_test = z_test.shape[0]\n",
    "TSS = (np.sum( (z_test - zbar)**2 )/(n_test-1))*( (n_test + 1)/n_test )\n",
    "\n",
    "\n",
    "nointercept_pred = nointercept_model.predict(X_test)\n",
    "Xc_test= sm.add_constant(X_test)  #allows nonzero intercept\n",
    "intercept_pred = intercept_model.predict(Xc_test)\n",
    "\n",
    "def MSE_OOS(pred):\n",
    "    return np.sum( (z_test - pred)**2 )/n_test\n",
    "\n",
    "print(intercept_model.summary())\n",
    "print(\"R-squared with intercept =\", intercept_model.rsquared )\n",
    "print(\"R-squared without intercept =\", nointercept_model.rsquared )\n",
    "print( \"R_OSS(intercept) =\", 1 - MSE_OOS(intercept_pred)/TSS )\n",
    "print( \"R_OSS(no_intercept) =\", 1 - MSE_OOS(nointercept_pred)/TSS )"
   ]
  },
  {
   "cell_type": "markdown",
   "id": "bd5d6dd5",
   "metadata": {},
   "source": [
    "Note that these models do a **really** good job fitting the data. The R_OSS should be interpreted as the proportion of the null model's error/variance explained by the fitted model. In this case the null model is z_pred = mean(z). \n",
    "\n",
    "Rather than just 1 train test split, a K-fold cross validation would be more reliable."
   ]
  },
  {
   "cell_type": "code",
   "execution_count": 110,
   "id": "3047edee",
   "metadata": {},
   "outputs": [
    {
     "name": "stdout",
     "output_type": "stream",
     "text": [
      "5-fold CV R_OSS(intercept) = 0.9333484081555978\n",
      "5-fold CV R_OSS(nointercept) = 0.9321524642427595\n"
     ]
    }
   ],
   "source": [
    "z = x + 2*y + np.random.normal(0,0.3,100)\n",
    "X = np.vstack([x,y]).transpose()\n",
    "\n",
    "\n",
    "from sklearn.model_selection import KFold\n",
    "n_splits = 5\n",
    "kf = KFold(n_splits=n_splits)\n",
    "\n",
    "Ross_intercept = 0\n",
    "Ross_nointercept = 0\n",
    "for i, (train, test) in enumerate(kf.split(X)):\n",
    "\n",
    "    X_train, X_test = X[train], X[test]\n",
    "    z_train, z_test = z[train], z[test]\n",
    "    \n",
    "    nointercept_model = sm.OLS(z_train, X_train).fit()\n",
    "    Xc_train= sm.add_constant(X_train)  #allows nonzero intercept\n",
    "    intercept_model = sm.OLS(z_train, Xc_train).fit()\n",
    "\n",
    "    zbar = np.mean(z)\n",
    "    n_test = z_test.shape[0]\n",
    "    TSS = (np.sum( (z_test - zbar)**2 )/(n_test-1))*( (n_test + 1)/n_test )\n",
    "\n",
    "\n",
    "    nointercept_pred = nointercept_model.predict(X_test)\n",
    "    Xc_test= sm.add_constant(X_test)  #allows nonzero intercept\n",
    "    intercept_pred = intercept_model.predict(Xc_test)\n",
    "\n",
    "    def MSE_OOS(pred):\n",
    "        return np.sum( (z_test - pred)**2 )/n_test\n",
    "\n",
    "    Ross_intercept += ( 1 - MSE_OOS(intercept_pred)/TSS )\n",
    "    Ross_nointercept += (1 - MSE_OOS(nointercept_pred)/TSS )\n",
    "\n",
    "Ross_intercept /= n_splits\n",
    "Ross_nointercept /= n_splits\n",
    "print( \"{}-fold CV R_OSS(intercept) =\".format(n_splits), Ross_intercept)\n",
    "print( \"{}-fold CV R_OSS(nointercept) =\".format(n_splits), Ross_nointercept)\n"
   ]
  },
  {
   "cell_type": "code",
   "execution_count": null,
   "id": "9ad297c0",
   "metadata": {},
   "outputs": [],
   "source": []
  }
 ],
 "metadata": {
  "kernelspec": {
   "display_name": "Python 3 (ipykernel)",
   "language": "python",
   "name": "python3"
  },
  "language_info": {
   "codemirror_mode": {
    "name": "ipython",
    "version": 3
   },
   "file_extension": ".py",
   "mimetype": "text/x-python",
   "name": "python",
   "nbconvert_exporter": "python",
   "pygments_lexer": "ipython3",
   "version": "3.8.10"
  }
 },
 "nbformat": 4,
 "nbformat_minor": 5
}
